{
 "cells": [
  {
   "cell_type": "code",
   "execution_count": 1,
   "id": "a8a54346",
   "metadata": {},
   "outputs": [],
   "source": [
    "import pandas as pd\n",
    "import numpy as np\n",
    "import scipy.stats as stats\n",
    "import requests\n",
    "from bs4 import BeautifulSoup"
   ]
  },
  {
   "cell_type": "code",
   "execution_count": 11,
   "id": "d6e010cb",
   "metadata": {},
   "outputs": [],
   "source": [
    "url='https://www.ambitionbox.com/list-of-companies?page=1'\n",
    "headers={'User-Agent':'Mozilla/5.0 (Windows NT 6.3; Win 64 ; x64) Apple WeKit /537.36(KHTML , \\\n",
    "like Gecko) Chrome/80.0.3987.162 Safari/537.36'}"
   ]
  },
  {
   "cell_type": "code",
   "execution_count": 22,
   "id": "8ee1d91e",
   "metadata": {
    "scrolled": true
   },
   "outputs": [],
   "source": [
    "company=requests.get('https://www.ambitionbox.com/list-of-companies?page=1', headers=headers).text\n",
    "soup=BeautifulSoup(company, 'lxml')"
   ]
  },
  {
   "cell_type": "code",
   "execution_count": 34,
   "id": "4d0be8c5",
   "metadata": {
    "scrolled": true
   },
   "outputs": [
    {
     "data": {
      "text/plain": [
       "'List of companies in India'"
      ]
     },
     "execution_count": 34,
     "metadata": {},
     "output_type": "execute_result"
    }
   ],
   "source": [
    "soup.find('h1').text.strip()"
   ]
  },
  {
   "cell_type": "code",
   "execution_count": 64,
   "id": "1e6dfcbd",
   "metadata": {},
   "outputs": [
    {
     "data": {
      "text/plain": [
       "'TCS'"
      ]
     },
     "execution_count": 64,
     "metadata": {},
     "output_type": "execute_result"
    }
   ],
   "source": [
    "soup.find('h2').text.strip()"
   ]
  },
  {
   "cell_type": "code",
   "execution_count": 66,
   "id": "5786e12c",
   "metadata": {
    "scrolled": true
   },
   "outputs": [
    {
     "data": {
      "text/plain": [
       "'TCS'"
      ]
     },
     "execution_count": 66,
     "metadata": {},
     "output_type": "execute_result"
    }
   ],
   "source": [
    "soup.find_all('h2')[0].text.strip()"
   ]
  },
  {
   "cell_type": "code",
   "execution_count": 61,
   "id": "f190cdd6",
   "metadata": {},
   "outputs": [],
   "source": [
    "length=len(soup.find_all('h2'))"
   ]
  },
  {
   "cell_type": "code",
   "execution_count": 62,
   "id": "f62d1349",
   "metadata": {},
   "outputs": [],
   "source": [
    "li=[]\n",
    "for i in range(0,length):\n",
    "    li.append(soup.find_all('h2')[i].text.strip())"
   ]
  },
  {
   "cell_type": "code",
   "execution_count": 63,
   "id": "8ef28c75",
   "metadata": {},
   "outputs": [
    {
     "data": {
      "text/plain": [
       "['TCS',\n",
       " 'Accenture',\n",
       " 'Cognizant',\n",
       " 'Wipro',\n",
       " 'Capgemini',\n",
       " 'HDFC Bank',\n",
       " 'ICICI Bank',\n",
       " 'Infosys',\n",
       " 'HCLTech',\n",
       " 'Tech Mahindra',\n",
       " 'Genpact',\n",
       " 'Axis Bank',\n",
       " 'Teleperformance',\n",
       " 'Concentrix Corporation',\n",
       " 'Jio',\n",
       " 'Amazon',\n",
       " 'IBM',\n",
       " 'Reliance Retail',\n",
       " 'HDB Financial Services',\n",
       " 'Larsen & Toubro Limited',\n",
       " 'Companies by  Industry',\n",
       " 'Companies by  Locations',\n",
       " 'Companies by  Type',\n",
       " 'Companies by  Badges']"
      ]
     },
     "execution_count": 63,
     "metadata": {},
     "output_type": "execute_result"
    }
   ],
   "source": [
    "li"
   ]
  },
  {
   "cell_type": "code",
   "execution_count": 85,
   "id": "20f0eace",
   "metadata": {},
   "outputs": [],
   "source": [
    "Company=[]\n",
    "for i in soup.find_all('h2', class_='companyCardWrapper__companyName'):\n",
    "    Company.append(i.text.strip())"
   ]
  },
  {
   "cell_type": "code",
   "execution_count": 86,
   "id": "d8a55754",
   "metadata": {},
   "outputs": [
    {
     "data": {
      "text/plain": [
       "['TCS',\n",
       " 'Accenture',\n",
       " 'Cognizant',\n",
       " 'Wipro',\n",
       " 'Capgemini',\n",
       " 'HDFC Bank',\n",
       " 'ICICI Bank',\n",
       " 'Infosys',\n",
       " 'HCLTech',\n",
       " 'Tech Mahindra',\n",
       " 'Genpact',\n",
       " 'Axis Bank',\n",
       " 'Teleperformance',\n",
       " 'Concentrix Corporation',\n",
       " 'Jio',\n",
       " 'Amazon',\n",
       " 'IBM',\n",
       " 'Reliance Retail',\n",
       " 'HDB Financial Services',\n",
       " 'Larsen & Toubro Limited']"
      ]
     },
     "execution_count": 86,
     "metadata": {},
     "output_type": "execute_result"
    }
   ],
   "source": [
    "Company"
   ]
  },
  {
   "cell_type": "code",
   "execution_count": 90,
   "id": "f730bfa9",
   "metadata": {},
   "outputs": [],
   "source": [
    "Rating=[]\n",
    "for i in soup.find_all('span', class_=\"companyCardWrapper__companyRatingValue\"):\n",
    "    Rating.append(i.text)"
   ]
  },
  {
   "cell_type": "code",
   "execution_count": 91,
   "id": "8e03ad14",
   "metadata": {},
   "outputs": [
    {
     "data": {
      "text/plain": [
       "['3.8',\n",
       " '4.0',\n",
       " '3.9',\n",
       " '3.8',\n",
       " '3.9',\n",
       " '4.0',\n",
       " '4.0',\n",
       " '3.8',\n",
       " '3.7',\n",
       " '3.7',\n",
       " '3.9',\n",
       " '3.9',\n",
       " '3.7',\n",
       " '3.9',\n",
       " '4.0',\n",
       " '4.1',\n",
       " '4.1',\n",
       " '4.0',\n",
       " '4.0',\n",
       " '4.1']"
      ]
     },
     "execution_count": 91,
     "metadata": {},
     "output_type": "execute_result"
    }
   ],
   "source": [
    "Rating"
   ]
  },
  {
   "cell_type": "code",
   "execution_count": 92,
   "id": "250c4694",
   "metadata": {},
   "outputs": [
    {
     "data": {
      "text/plain": [
       "20"
      ]
     },
     "execution_count": 92,
     "metadata": {},
     "output_type": "execute_result"
    }
   ],
   "source": [
    "len(Rating)"
   ]
  },
  {
   "cell_type": "code",
   "execution_count": 98,
   "id": "7c00e759",
   "metadata": {},
   "outputs": [],
   "source": [
    "company_info=[]\n",
    "for i in soup.find_all('span', class_=\"companyCardWrapper__interLinking\"):\n",
    "    company_info.append(i.text.strip())"
   ]
  },
  {
   "cell_type": "code",
   "execution_count": 101,
   "id": "d4eb862d",
   "metadata": {},
   "outputs": [
    {
     "data": {
      "text/plain": [
       "['IT Services & Consulting | 1 Lakh+ Employees | Public | 56 years old | Mumbai +345 more',\n",
       " 'IT Services & Consulting | 1 Lakh+ Employees | Public | 35 years old | Dublin +177 more',\n",
       " 'IT Services & Consulting | 1 Lakh+ Employees | Forbes Global 2000 | 30 years old | Teaneck. New Jersey. +163 more',\n",
       " 'IT Services & Consulting | 1 Lakh+ Employees | Public | 79 years old | Bangalore/Bengaluru +277 more',\n",
       " 'IT Services & Consulting | 1 Lakh+ Employees | Public | 57 years old | Paris +142 more',\n",
       " 'Banking | 1 Lakh+ Employees | Public | 30 years old | Mumbai +1550 more',\n",
       " 'Banking | 1 Lakh+ Employees | Public | 30 years old | Mumbai +1286 more',\n",
       " 'IT Services & Consulting | 1 Lakh+ Employees | Public | 43 years old | Bengaluru/Bangalore +182 more',\n",
       " 'IT Services & Consulting | 1 Lakh+ Employees | Public | 33 years old | Noida +183 more',\n",
       " 'IT Services & Consulting | 1 Lakh+ Employees | Public | 38 years old | Pune +270 more',\n",
       " 'IT Services & Consulting | 1 Lakh+ Employees | Public | 27 years old | New York +112 more',\n",
       " 'Banking | 50k-1 Lakh Employees | Public | 31 years old | Mumbai +1306 more',\n",
       " 'BPO | 50k-1 Lakh Employees | Forbes Global 2000 | 46 years old | Paris +184 more',\n",
       " 'BPO | 50k-1 Lakh Employees | Public | 41 years old | Fremont +117 more',\n",
       " 'Telecom | 50k-1 Lakh Employees | Public | 6 years old | Navi Mumbai +1173 more',\n",
       " 'Internet | 1 Lakh+ Employees | Public | 30 years old | Seattle +451 more',\n",
       " 'IT Services & Consulting | 1 Lakh+ Employees | Public | 113 years old | Armonk +147 more',\n",
       " 'Retail | 1 Lakh+ Employees | 18 years old | Navi Mumbai +1004 more',\n",
       " 'NBFC | 1 Lakh+ Employees | 17 years old | Ahmedabad +957 more',\n",
       " 'Engineering & Construction | 10k-50k Employees | Public | 86 years old | Mumbai +626 more']"
      ]
     },
     "execution_count": 101,
     "metadata": {},
     "output_type": "execute_result"
    }
   ],
   "source": [
    "company_info"
   ]
  },
  {
   "cell_type": "code",
   "execution_count": 100,
   "id": "3bb31c74",
   "metadata": {},
   "outputs": [
    {
     "data": {
      "text/plain": [
       "20"
      ]
     },
     "execution_count": 100,
     "metadata": {},
     "output_type": "execute_result"
    }
   ],
   "source": [
    "len(company_info)"
   ]
  },
  {
   "cell_type": "code",
   "execution_count": 108,
   "id": "f9023980",
   "metadata": {},
   "outputs": [
    {
     "data": {
      "text/plain": [
       "[<span class=\"companyCardWrapper__ratingValues\">Job Security, Work Life Balance</span>,\n",
       " <span class=\"companyCardWrapper__ratingValues\">Promotions / Appraisal, Salary &amp; Benefits</span>,\n",
       " <span class=\"companyCardWrapper__ratingValues\">Company Culture, Skill Development / Learning, Job Security</span>,\n",
       " <span class=\"companyCardWrapper__ratingValues\">Skill Development / Learning</span>,\n",
       " <span class=\"companyCardWrapper__ratingValues\">Promotions / Appraisal</span>,\n",
       " <span class=\"companyCardWrapper__ratingValues\">Job Security</span>,\n",
       " <span class=\"companyCardWrapper__ratingValues\">Promotions / Appraisal, Salary &amp; Benefits</span>,\n",
       " <span class=\"companyCardWrapper__ratingValues\">Job Security, Work Life Balance, Skill Development / Learning</span>,\n",
       " <span class=\"companyCardWrapper__ratingValues\">Promotions / Appraisal, Salary &amp; Benefits</span>,\n",
       " <span class=\"companyCardWrapper__ratingValues\">Job Security, Skill Development / Learning</span>,\n",
       " <span class=\"companyCardWrapper__ratingValues\">Promotions / Appraisal</span>,\n",
       " <span class=\"companyCardWrapper__ratingValues\">Job Security, Skill Development / Learning, Company Culture</span>,\n",
       " <span class=\"companyCardWrapper__ratingValues\">Job Security, Company Culture, Skill Development / Learning</span>,\n",
       " <span class=\"companyCardWrapper__ratingValues\">Salary &amp; Benefits, Promotions / Appraisal</span>,\n",
       " <span class=\"companyCardWrapper__ratingValues\">Job Security</span>,\n",
       " <span class=\"companyCardWrapper__ratingValues\">Promotions / Appraisal, Salary &amp; Benefits, Work Satisfaction</span>,\n",
       " <span class=\"companyCardWrapper__ratingValues\">Promotions / Appraisal, Salary &amp; Benefits</span>,\n",
       " <span class=\"companyCardWrapper__ratingValues\">Job Security, Skill Development / Learning, Work Life Balance</span>,\n",
       " <span class=\"companyCardWrapper__ratingValues\">Salary &amp; Benefits, Promotions / Appraisal</span>,\n",
       " <span class=\"companyCardWrapper__ratingValues\">Job Security</span>,\n",
       " <span class=\"companyCardWrapper__ratingValues\">Promotions / Appraisal, Salary &amp; Benefits, Work Satisfaction</span>,\n",
       " <span class=\"companyCardWrapper__ratingValues\">Job Security, Company Culture</span>,\n",
       " <span class=\"companyCardWrapper__ratingValues\">Promotions / Appraisal, Salary &amp; Benefits</span>,\n",
       " <span class=\"companyCardWrapper__ratingValues\">Job Security, Skill Development / Learning</span>,\n",
       " <span class=\"companyCardWrapper__ratingValues\">Promotions / Appraisal</span>,\n",
       " <span class=\"companyCardWrapper__ratingValues\">Company Culture, Salary &amp; Benefits, Work Life Balance</span>,\n",
       " <span class=\"companyCardWrapper__ratingValues\">Work Life Balance, Job Security, Skill Development / Learning</span>,\n",
       " <span class=\"companyCardWrapper__ratingValues\">Promotions / Appraisal</span>,\n",
       " <span class=\"companyCardWrapper__ratingValues\">Skill Development / Learning, Job Security</span>,\n",
       " <span class=\"companyCardWrapper__ratingValues\">Promotions / Appraisal</span>,\n",
       " <span class=\"companyCardWrapper__ratingValues\">Skill Development / Learning, Job Security, Company Culture</span>,\n",
       " <span class=\"companyCardWrapper__ratingValues\">Promotions / Appraisal</span>,\n",
       " <span class=\"companyCardWrapper__ratingValues\">Job Security, Skill Development / Learning</span>]"
      ]
     },
     "execution_count": 108,
     "metadata": {},
     "output_type": "execute_result"
    }
   ],
   "source": [
    "soup.find_all('span', class_=\"companyCardWrapper__ratingValues\")"
   ]
  },
  {
   "cell_type": "code",
   "execution_count": 106,
   "id": "a51444c7",
   "metadata": {},
   "outputs": [
    {
     "data": {
      "text/plain": [
       "33"
      ]
     },
     "execution_count": 106,
     "metadata": {},
     "output_type": "execute_result"
    }
   ],
   "source": [
    "Critically_Rated_For=[]\n",
    "for i in soup.find_all('span', class_=\"companyCardWrapper__ratingValues\"):\n",
    "    Critically_Rated_For.append(i.text.strip())\n",
    "    \n",
    "len(Critically_Rated_For)"
   ]
  },
  {
   "cell_type": "code",
   "execution_count": 107,
   "id": "825b5108",
   "metadata": {
    "scrolled": true
   },
   "outputs": [
    {
     "data": {
      "text/plain": [
       "['Job Security, Work Life Balance',\n",
       " 'Promotions / Appraisal, Salary & Benefits',\n",
       " 'Company Culture, Skill Development / Learning, Job Security',\n",
       " 'Skill Development / Learning',\n",
       " 'Promotions / Appraisal',\n",
       " 'Job Security',\n",
       " 'Promotions / Appraisal, Salary & Benefits',\n",
       " 'Job Security, Work Life Balance, Skill Development / Learning',\n",
       " 'Promotions / Appraisal, Salary & Benefits',\n",
       " 'Job Security, Skill Development / Learning',\n",
       " 'Promotions / Appraisal',\n",
       " 'Job Security, Skill Development / Learning, Company Culture',\n",
       " 'Job Security, Company Culture, Skill Development / Learning',\n",
       " 'Salary & Benefits, Promotions / Appraisal',\n",
       " 'Job Security',\n",
       " 'Promotions / Appraisal, Salary & Benefits, Work Satisfaction',\n",
       " 'Promotions / Appraisal, Salary & Benefits',\n",
       " 'Job Security, Skill Development / Learning, Work Life Balance',\n",
       " 'Salary & Benefits, Promotions / Appraisal',\n",
       " 'Job Security',\n",
       " 'Promotions / Appraisal, Salary & Benefits, Work Satisfaction',\n",
       " 'Job Security, Company Culture',\n",
       " 'Promotions / Appraisal, Salary & Benefits',\n",
       " 'Job Security, Skill Development / Learning',\n",
       " 'Promotions / Appraisal',\n",
       " 'Company Culture, Salary & Benefits, Work Life Balance',\n",
       " 'Work Life Balance, Job Security, Skill Development / Learning',\n",
       " 'Promotions / Appraisal',\n",
       " 'Skill Development / Learning, Job Security',\n",
       " 'Promotions / Appraisal',\n",
       " 'Skill Development / Learning, Job Security, Company Culture',\n",
       " 'Promotions / Appraisal',\n",
       " 'Job Security, Skill Development / Learning']"
      ]
     },
     "execution_count": 107,
     "metadata": {},
     "output_type": "execute_result"
    }
   ],
   "source": [
    "Critically_Rated_For"
   ]
  },
  {
   "cell_type": "code",
   "execution_count": 129,
   "id": "360eff7a",
   "metadata": {},
   "outputs": [
    {
     "data": {
      "text/plain": [
       "<span class=\"companyCardWrapper__ActionTitle\">Reviews</span>"
      ]
     },
     "execution_count": 129,
     "metadata": {},
     "output_type": "execute_result"
    }
   ],
   "source": [
    "soup.find('span', class_=\"companyCardWrapper__ActionTitle\")"
   ]
  },
  {
   "cell_type": "code",
   "execution_count": 115,
   "id": "9bf98c00",
   "metadata": {},
   "outputs": [],
   "source": [
    "reviews=[]\n",
    "for i in soup.find_all('span', class_=\"companyCardWrapper__ActionCount\"):\n",
    "    reviews.append(i.text.strip())"
   ]
  },
  {
   "cell_type": "code",
   "execution_count": 118,
   "id": "105fb65d",
   "metadata": {},
   "outputs": [
    {
     "data": {
      "text/plain": [
       "['74.6k',\n",
       " '852.4k',\n",
       " '6.8k',\n",
       " '859',\n",
       " '11.6k',\n",
       " '77',\n",
       " '47.3k',\n",
       " '584.3k',\n",
       " '4.8k',\n",
       " '23.7k',\n",
       " '7.2k',\n",
       " '39',\n",
       " '42.6k',\n",
       " '561.4k',\n",
       " '4k',\n",
       " '422',\n",
       " '5.9k',\n",
       " '63',\n",
       " '40.1k',\n",
       " '425.9k',\n",
       " '4k',\n",
       " '276',\n",
       " '5k',\n",
       " '79',\n",
       " '34.7k',\n",
       " '414.4k',\n",
       " '3.1k',\n",
       " '706',\n",
       " '4.1k',\n",
       " '36',\n",
       " '34.5k',\n",
       " '131.5k',\n",
       " '1.6k',\n",
       " '187',\n",
       " '3.3k',\n",
       " '5',\n",
       " '34.1k',\n",
       " '140.8k',\n",
       " '1.9k',\n",
       " '50',\n",
       " '3.8k',\n",
       " '48',\n",
       " '32.5k',\n",
       " '484k',\n",
       " '5.2k',\n",
       " '1.4k',\n",
       " '5.2k',\n",
       " '90',\n",
       " '29.2k',\n",
       " '315.3k',\n",
       " '2.7k',\n",
       " '260',\n",
       " '4.1k',\n",
       " '35',\n",
       " '28.2k',\n",
       " '252.7k',\n",
       " '2.6k',\n",
       " '866',\n",
       " '3.6k',\n",
       " '43',\n",
       " '26.7k',\n",
       " '187.5k',\n",
       " '2.1k',\n",
       " '600',\n",
       " '3.7k',\n",
       " '37',\n",
       " '22.4k',\n",
       " '96.5k',\n",
       " '1.2k',\n",
       " '158',\n",
       " '2.2k',\n",
       " '52',\n",
       " '22.5k',\n",
       " '90.2k',\n",
       " '1.3k',\n",
       " '356',\n",
       " '2k',\n",
       " '31',\n",
       " '22.2k',\n",
       " '106.1k',\n",
       " '1.2k',\n",
       " '68',\n",
       " '3.3k',\n",
       " '37',\n",
       " '20.9k',\n",
       " '66.5k',\n",
       " '1.3k',\n",
       " '131',\n",
       " '2.6k',\n",
       " '44',\n",
       " '21k',\n",
       " '121.6k',\n",
       " '3.6k',\n",
       " '188',\n",
       " '4.2k',\n",
       " '73',\n",
       " '20k',\n",
       " '217.8k',\n",
       " '1.6k',\n",
       " '2.7k',\n",
       " '2.7k',\n",
       " '20',\n",
       " '19.2k',\n",
       " '60.6k',\n",
       " '1.2k',\n",
       " '127',\n",
       " '2k',\n",
       " '101',\n",
       " '18.4k',\n",
       " '49.5k',\n",
       " '617',\n",
       " '146',\n",
       " '1.5k',\n",
       " '33',\n",
       " '16.9k',\n",
       " '79.9k',\n",
       " '1.1k',\n",
       " '141',\n",
       " '2.9k',\n",
       " '36']"
      ]
     },
     "execution_count": 118,
     "metadata": {},
     "output_type": "execute_result"
    }
   ],
   "source": [
    "reviews"
   ]
  },
  {
   "cell_type": "code",
   "execution_count": 165,
   "id": "b66c512b",
   "metadata": {
    "scrolled": false
   },
   "outputs": [
    {
     "data": {
      "text/plain": [
       "<div class=\"companyCardWrapper__ratingComparisonWrapper\"><div><div class=\"companyCardWrapper__ratingHeader\"><img height=\"14px\" src=\"/static/companyListing/ThumbsUp.svg\" width=\"14px\"/> <span class=\"companyCardWrapper__ratingHeader--high\">Highly Rated For</span></div> <span class=\"companyCardWrapper__ratingValues\">Job Security, Work Life Balance</span></div> <div><div class=\"companyCardWrapper__ratingHeader\"><img height=\"14px\" src=\"/static/companyListing/ThumbsDown.svg\" width=\"14px\"/> <span class=\"companyCardWrapper__ratingHeader--critical\">Critically Rated For</span></div> <span class=\"companyCardWrapper__ratingValues\">Promotions / Appraisal, Salary &amp; Benefits</span></div></div>"
      ]
     },
     "execution_count": 165,
     "metadata": {},
     "output_type": "execute_result"
    }
   ],
   "source": [
    "parent_element=soup.find_all('div',class_=\"companyCardWrapper__ratingComparisonWrapper\")\n",
    "parent_element[0]"
   ]
  },
  {
   "cell_type": "code",
   "execution_count": 161,
   "id": "0596fd9b",
   "metadata": {},
   "outputs": [],
   "source": [
    "li=[]\n",
    "for i in parent_element:\n",
    "    if i.find_all('span', class_='companyCardWrapper__ratingHeader')=='Highly Rated For'\n",
    "    li.append(i.find_all('span', class_='companyCardWrapper__ratingValues'))"
   ]
  },
  {
   "cell_type": "code",
   "execution_count": 166,
   "id": "c6635ccc",
   "metadata": {
    "scrolled": true
   },
   "outputs": [
    {
     "data": {
      "text/plain": [
       "<div class=\"companyCardWrapper__ratingComparisonWrapper\"><div><div class=\"companyCardWrapper__ratingHeader\"><img height=\"14px\" src=\"/static/companyListing/ThumbsUp.svg\" width=\"14px\"/> <span class=\"companyCardWrapper__ratingHeader--high\">Highly Rated For</span></div> <span class=\"companyCardWrapper__ratingValues\">Job Security, Work Life Balance</span></div> <div><div class=\"companyCardWrapper__ratingHeader\"><img height=\"14px\" src=\"/static/companyListing/ThumbsDown.svg\" width=\"14px\"/> <span class=\"companyCardWrapper__ratingHeader--critical\">Critically Rated For</span></div> <span class=\"companyCardWrapper__ratingValues\">Promotions / Appraisal, Salary &amp; Benefits</span></div></div>"
      ]
     },
     "execution_count": 166,
     "metadata": {},
     "output_type": "execute_result"
    }
   ],
   "source": [
    "parent_element[0]"
   ]
  },
  {
   "cell_type": "code",
   "execution_count": 167,
   "id": "d87670d7",
   "metadata": {
    "scrolled": true
   },
   "outputs": [
    {
     "data": {
      "text/plain": [
       "[<span class=\"companyCardWrapper__ratingValues\">Job Security, Work Life Balance</span>,\n",
       " <span class=\"companyCardWrapper__ratingValues\">Promotions / Appraisal, Salary &amp; Benefits</span>]"
      ]
     },
     "execution_count": 167,
     "metadata": {},
     "output_type": "execute_result"
    }
   ],
   "source": [
    "parent_element[0].find_all('span', class_='companyCardWrapper__ratingValues')"
   ]
  },
  {
   "cell_type": "code",
   "execution_count": 180,
   "id": "73fd81e1",
   "metadata": {
    "scrolled": false
   },
   "outputs": [
    {
     "data": {
      "text/plain": [
       "'Highly Rated For'"
      ]
     },
     "execution_count": 180,
     "metadata": {},
     "output_type": "execute_result"
    }
   ],
   "source": [
    "parent_element[0].find_all('span', class_='companyCardWrapper__ratingHeader--high')[0].text"
   ]
  },
  {
   "cell_type": "code",
   "execution_count": 182,
   "id": "8606e079",
   "metadata": {},
   "outputs": [
    {
     "name": "stdout",
     "output_type": "stream",
     "text": [
      "[<span class=\"companyCardWrapper__ratingValues\">Job Security, Work Life Balance</span>, <span class=\"companyCardWrapper__ratingValues\">Promotions / Appraisal, Salary &amp; Benefits</span>]\n"
     ]
    }
   ],
   "source": [
    "if parent_element[0].find_all('span', class_='companyCardWrapper__ratingHeader--high')[0].text=='Highly Rated For':\n",
    "    print(parent_element[0].find_all('span', class_='companyCardWrapper__ratingValues'))"
   ]
  },
  {
   "cell_type": "code",
   "execution_count": null,
   "id": "07650605",
   "metadata": {},
   "outputs": [],
   "source": [
    "parent_element[0]"
   ]
  },
  {
   "cell_type": "code",
   "execution_count": null,
   "id": "ada60e74",
   "metadata": {},
   "outputs": [],
   "source": [
    "def Reviews_Ka_Khela():\n",
    "    "
   ]
  },
  {
   "cell_type": "code",
   "execution_count": 164,
   "id": "cec2bb9c",
   "metadata": {},
   "outputs": [
    {
     "name": "stdout",
     "output_type": "stream",
     "text": [
      "2\n",
      "1\n",
      "2\n",
      "2\n",
      "2\n",
      "2\n",
      "1\n",
      "2\n",
      "2\n",
      "1\n",
      "2\n",
      "1\n",
      "1\n",
      "2\n",
      "2\n",
      "1\n",
      "2\n",
      "2\n",
      "2\n",
      "1\n"
     ]
    }
   ],
   "source": [
    "for i in li:\n",
    "    print(len(i))"
   ]
  },
  {
   "cell_type": "code",
   "execution_count": 163,
   "id": "4c880b41",
   "metadata": {},
   "outputs": [
    {
     "data": {
      "text/plain": [
       "20"
      ]
     },
     "execution_count": 163,
     "metadata": {},
     "output_type": "execute_result"
    }
   ],
   "source": [
    "len(li)"
   ]
  },
  {
   "cell_type": "code",
   "execution_count": 193,
   "id": "ba824105",
   "metadata": {},
   "outputs": [],
   "source": [
    "Highly_Rated_For = []\n",
    "Critically_Rated_For = []\n",
    "for i in parent_element:\n",
    "    if len(i.find_all('span',class_=\"companyCardWrapper__ratingValues\"))==1 and i.find_all('span',class_=\"companyCardWrapper__ratingHeader--critical\")==[]:\n",
    "        Highly_Rated_For.append(i.find_all('span',class_=\"companyCardWrapper__ratingValues\")[0].text)\n",
    "        Critically_Rated_For.append(None)\n",
    "        \n",
    "    elif len(i.find_all('span',class_=\"companyCardWrapper__ratingValues\"))==1 and i.find_all('span',class_=\"companyCardWrapper__ratingHeader--high\")==[]:\n",
    "        Critically_Rated_For.append(i.find_all('span',class_=\"companyCardWrapper__ratingValues\")[0].text)\n",
    "        Highly_Rated_For.append(None)\n",
    "    else:\n",
    "        Highly_Rated_For.append(i.find_all('span',class_=\"companyCardWrapper__ratingValues\")[0].text)\n",
    "        Critically_Rated_For.append(i.find_all('span',class_=\"companyCardWrapper__ratingValues\")[1].text)"
   ]
  },
  {
   "cell_type": "code",
   "execution_count": 194,
   "id": "b9ad56cf",
   "metadata": {},
   "outputs": [
    {
     "data": {
      "text/plain": [
       "20"
      ]
     },
     "execution_count": 194,
     "metadata": {},
     "output_type": "execute_result"
    }
   ],
   "source": [
    "len(Highly_Rated_For)"
   ]
  },
  {
   "cell_type": "code",
   "execution_count": 195,
   "id": "c5738974",
   "metadata": {},
   "outputs": [
    {
     "data": {
      "text/plain": [
       "20"
      ]
     },
     "execution_count": 195,
     "metadata": {},
     "output_type": "execute_result"
    }
   ],
   "source": [
    "len(Critically_Rated_For)"
   ]
  },
  {
   "cell_type": "code",
   "execution_count": 196,
   "id": "dce81577",
   "metadata": {},
   "outputs": [
    {
     "data": {
      "text/plain": [
       "['Job Security, Work Life Balance',\n",
       " 'Company Culture, Skill Development / Learning, Job Security',\n",
       " 'Skill Development / Learning',\n",
       " 'Job Security',\n",
       " 'Job Security, Work Life Balance, Skill Development / Learning',\n",
       " 'Job Security, Skill Development / Learning',\n",
       " 'Job Security, Skill Development / Learning, Company Culture',\n",
       " 'Job Security, Company Culture, Skill Development / Learning',\n",
       " 'Job Security',\n",
       " None,\n",
       " 'Job Security, Skill Development / Learning, Work Life Balance',\n",
       " 'Job Security',\n",
       " None,\n",
       " 'Job Security, Company Culture',\n",
       " 'Job Security, Skill Development / Learning',\n",
       " 'Company Culture, Salary & Benefits, Work Life Balance',\n",
       " 'Work Life Balance, Job Security, Skill Development / Learning',\n",
       " 'Skill Development / Learning, Job Security',\n",
       " 'Skill Development / Learning, Job Security, Company Culture',\n",
       " 'Job Security, Skill Development / Learning']"
      ]
     },
     "execution_count": 196,
     "metadata": {},
     "output_type": "execute_result"
    }
   ],
   "source": [
    "Highly_Rated_For"
   ]
  },
  {
   "cell_type": "code",
   "execution_count": 197,
   "id": "79f030a5",
   "metadata": {},
   "outputs": [
    {
     "data": {
      "text/plain": [
       "['Promotions / Appraisal, Salary & Benefits',\n",
       " None,\n",
       " 'Promotions / Appraisal',\n",
       " 'Promotions / Appraisal, Salary & Benefits',\n",
       " 'Promotions / Appraisal, Salary & Benefits',\n",
       " 'Promotions / Appraisal',\n",
       " None,\n",
       " 'Salary & Benefits, Promotions / Appraisal',\n",
       " 'Promotions / Appraisal, Salary & Benefits, Work Satisfaction',\n",
       " 'Promotions / Appraisal, Salary & Benefits',\n",
       " 'Salary & Benefits, Promotions / Appraisal',\n",
       " None,\n",
       " 'Promotions / Appraisal, Salary & Benefits, Work Satisfaction',\n",
       " 'Promotions / Appraisal, Salary & Benefits',\n",
       " 'Promotions / Appraisal',\n",
       " None,\n",
       " 'Promotions / Appraisal',\n",
       " 'Promotions / Appraisal',\n",
       " 'Promotions / Appraisal',\n",
       " None]"
      ]
     },
     "execution_count": 197,
     "metadata": {},
     "output_type": "execute_result"
    }
   ],
   "source": [
    "Critically_Rated_For"
   ]
  },
  {
   "cell_type": "code",
   "execution_count": 200,
   "id": "18433174",
   "metadata": {},
   "outputs": [
    {
     "data": {
      "text/html": [
       "<div>\n",
       "<style scoped>\n",
       "    .dataframe tbody tr th:only-of-type {\n",
       "        vertical-align: middle;\n",
       "    }\n",
       "\n",
       "    .dataframe tbody tr th {\n",
       "        vertical-align: top;\n",
       "    }\n",
       "\n",
       "    .dataframe thead th {\n",
       "        text-align: right;\n",
       "    }\n",
       "</style>\n",
       "<table border=\"1\" class=\"dataframe\">\n",
       "  <thead>\n",
       "    <tr style=\"text-align: right;\">\n",
       "      <th></th>\n",
       "      <th>Company</th>\n",
       "      <th>Ratings</th>\n",
       "      <th>Highly_Rated_For</th>\n",
       "      <th>Critically_Rated_For</th>\n",
       "      <th>Company_Info</th>\n",
       "    </tr>\n",
       "  </thead>\n",
       "  <tbody>\n",
       "    <tr>\n",
       "      <th>0</th>\n",
       "      <td>TCS</td>\n",
       "      <td>3.8</td>\n",
       "      <td>Job Security, Work Life Balance</td>\n",
       "      <td>Promotions / Appraisal, Salary &amp; Benefits</td>\n",
       "      <td>IT Services &amp; Consulting | 1 Lakh+ Employees |...</td>\n",
       "    </tr>\n",
       "    <tr>\n",
       "      <th>1</th>\n",
       "      <td>Accenture</td>\n",
       "      <td>4.0</td>\n",
       "      <td>Company Culture, Skill Development / Learning,...</td>\n",
       "      <td>None</td>\n",
       "      <td>IT Services &amp; Consulting | 1 Lakh+ Employees |...</td>\n",
       "    </tr>\n",
       "    <tr>\n",
       "      <th>2</th>\n",
       "      <td>Cognizant</td>\n",
       "      <td>3.9</td>\n",
       "      <td>Skill Development / Learning</td>\n",
       "      <td>Promotions / Appraisal</td>\n",
       "      <td>IT Services &amp; Consulting | 1 Lakh+ Employees |...</td>\n",
       "    </tr>\n",
       "    <tr>\n",
       "      <th>3</th>\n",
       "      <td>Wipro</td>\n",
       "      <td>3.8</td>\n",
       "      <td>Job Security</td>\n",
       "      <td>Promotions / Appraisal, Salary &amp; Benefits</td>\n",
       "      <td>IT Services &amp; Consulting | 1 Lakh+ Employees |...</td>\n",
       "    </tr>\n",
       "    <tr>\n",
       "      <th>4</th>\n",
       "      <td>Capgemini</td>\n",
       "      <td>3.9</td>\n",
       "      <td>Job Security, Work Life Balance, Skill Develop...</td>\n",
       "      <td>Promotions / Appraisal, Salary &amp; Benefits</td>\n",
       "      <td>IT Services &amp; Consulting | 1 Lakh+ Employees |...</td>\n",
       "    </tr>\n",
       "    <tr>\n",
       "      <th>5</th>\n",
       "      <td>HDFC Bank</td>\n",
       "      <td>4.0</td>\n",
       "      <td>Job Security, Skill Development / Learning</td>\n",
       "      <td>Promotions / Appraisal</td>\n",
       "      <td>Banking | 1 Lakh+ Employees | Public | 30 year...</td>\n",
       "    </tr>\n",
       "    <tr>\n",
       "      <th>6</th>\n",
       "      <td>ICICI Bank</td>\n",
       "      <td>4.0</td>\n",
       "      <td>Job Security, Skill Development / Learning, Co...</td>\n",
       "      <td>None</td>\n",
       "      <td>Banking | 1 Lakh+ Employees | Public | 30 year...</td>\n",
       "    </tr>\n",
       "    <tr>\n",
       "      <th>7</th>\n",
       "      <td>Infosys</td>\n",
       "      <td>3.8</td>\n",
       "      <td>Job Security, Company Culture, Skill Developme...</td>\n",
       "      <td>Salary &amp; Benefits, Promotions / Appraisal</td>\n",
       "      <td>IT Services &amp; Consulting | 1 Lakh+ Employees |...</td>\n",
       "    </tr>\n",
       "    <tr>\n",
       "      <th>8</th>\n",
       "      <td>HCLTech</td>\n",
       "      <td>3.7</td>\n",
       "      <td>Job Security</td>\n",
       "      <td>Promotions / Appraisal, Salary &amp; Benefits, Wor...</td>\n",
       "      <td>IT Services &amp; Consulting | 1 Lakh+ Employees |...</td>\n",
       "    </tr>\n",
       "    <tr>\n",
       "      <th>9</th>\n",
       "      <td>Tech Mahindra</td>\n",
       "      <td>3.7</td>\n",
       "      <td>None</td>\n",
       "      <td>Promotions / Appraisal, Salary &amp; Benefits</td>\n",
       "      <td>IT Services &amp; Consulting | 1 Lakh+ Employees |...</td>\n",
       "    </tr>\n",
       "    <tr>\n",
       "      <th>10</th>\n",
       "      <td>Genpact</td>\n",
       "      <td>3.9</td>\n",
       "      <td>Job Security, Skill Development / Learning, Wo...</td>\n",
       "      <td>Salary &amp; Benefits, Promotions / Appraisal</td>\n",
       "      <td>IT Services &amp; Consulting | 1 Lakh+ Employees |...</td>\n",
       "    </tr>\n",
       "    <tr>\n",
       "      <th>11</th>\n",
       "      <td>Axis Bank</td>\n",
       "      <td>3.9</td>\n",
       "      <td>Job Security</td>\n",
       "      <td>None</td>\n",
       "      <td>Banking | 50k-1 Lakh Employees | Public | 31 y...</td>\n",
       "    </tr>\n",
       "    <tr>\n",
       "      <th>12</th>\n",
       "      <td>Teleperformance</td>\n",
       "      <td>3.7</td>\n",
       "      <td>None</td>\n",
       "      <td>Promotions / Appraisal, Salary &amp; Benefits, Wor...</td>\n",
       "      <td>BPO | 50k-1 Lakh Employees | Forbes Global 200...</td>\n",
       "    </tr>\n",
       "    <tr>\n",
       "      <th>13</th>\n",
       "      <td>Concentrix Corporation</td>\n",
       "      <td>3.9</td>\n",
       "      <td>Job Security, Company Culture</td>\n",
       "      <td>Promotions / Appraisal, Salary &amp; Benefits</td>\n",
       "      <td>BPO | 50k-1 Lakh Employees | Public | 41 years...</td>\n",
       "    </tr>\n",
       "    <tr>\n",
       "      <th>14</th>\n",
       "      <td>Jio</td>\n",
       "      <td>4.0</td>\n",
       "      <td>Job Security, Skill Development / Learning</td>\n",
       "      <td>Promotions / Appraisal</td>\n",
       "      <td>Telecom | 50k-1 Lakh Employees | Public | 6 ye...</td>\n",
       "    </tr>\n",
       "    <tr>\n",
       "      <th>15</th>\n",
       "      <td>Amazon</td>\n",
       "      <td>4.1</td>\n",
       "      <td>Company Culture, Salary &amp; Benefits, Work Life ...</td>\n",
       "      <td>None</td>\n",
       "      <td>Internet | 1 Lakh+ Employees | Public | 30 yea...</td>\n",
       "    </tr>\n",
       "    <tr>\n",
       "      <th>16</th>\n",
       "      <td>IBM</td>\n",
       "      <td>4.1</td>\n",
       "      <td>Work Life Balance, Job Security, Skill Develop...</td>\n",
       "      <td>Promotions / Appraisal</td>\n",
       "      <td>IT Services &amp; Consulting | 1 Lakh+ Employees |...</td>\n",
       "    </tr>\n",
       "    <tr>\n",
       "      <th>17</th>\n",
       "      <td>Reliance Retail</td>\n",
       "      <td>4.0</td>\n",
       "      <td>Skill Development / Learning, Job Security</td>\n",
       "      <td>Promotions / Appraisal</td>\n",
       "      <td>Retail | 1 Lakh+ Employees | 18 years old | Na...</td>\n",
       "    </tr>\n",
       "    <tr>\n",
       "      <th>18</th>\n",
       "      <td>HDB Financial Services</td>\n",
       "      <td>4.0</td>\n",
       "      <td>Skill Development / Learning, Job Security, Co...</td>\n",
       "      <td>Promotions / Appraisal</td>\n",
       "      <td>NBFC | 1 Lakh+ Employees | 17 years old | Ahme...</td>\n",
       "    </tr>\n",
       "    <tr>\n",
       "      <th>19</th>\n",
       "      <td>Larsen &amp; Toubro Limited</td>\n",
       "      <td>4.1</td>\n",
       "      <td>Job Security, Skill Development / Learning</td>\n",
       "      <td>None</td>\n",
       "      <td>Engineering &amp; Construction | 10k-50k Employees...</td>\n",
       "    </tr>\n",
       "  </tbody>\n",
       "</table>\n",
       "</div>"
      ],
      "text/plain": [
       "                    Company Ratings  \\\n",
       "0                       TCS     3.8   \n",
       "1                 Accenture     4.0   \n",
       "2                 Cognizant     3.9   \n",
       "3                     Wipro     3.8   \n",
       "4                 Capgemini     3.9   \n",
       "5                 HDFC Bank     4.0   \n",
       "6                ICICI Bank     4.0   \n",
       "7                   Infosys     3.8   \n",
       "8                   HCLTech     3.7   \n",
       "9             Tech Mahindra     3.7   \n",
       "10                  Genpact     3.9   \n",
       "11                Axis Bank     3.9   \n",
       "12          Teleperformance     3.7   \n",
       "13   Concentrix Corporation     3.9   \n",
       "14                      Jio     4.0   \n",
       "15                   Amazon     4.1   \n",
       "16                      IBM     4.1   \n",
       "17          Reliance Retail     4.0   \n",
       "18   HDB Financial Services     4.0   \n",
       "19  Larsen & Toubro Limited     4.1   \n",
       "\n",
       "                                     Highly_Rated_For  \\\n",
       "0                     Job Security, Work Life Balance   \n",
       "1   Company Culture, Skill Development / Learning,...   \n",
       "2                        Skill Development / Learning   \n",
       "3                                        Job Security   \n",
       "4   Job Security, Work Life Balance, Skill Develop...   \n",
       "5          Job Security, Skill Development / Learning   \n",
       "6   Job Security, Skill Development / Learning, Co...   \n",
       "7   Job Security, Company Culture, Skill Developme...   \n",
       "8                                        Job Security   \n",
       "9                                                None   \n",
       "10  Job Security, Skill Development / Learning, Wo...   \n",
       "11                                       Job Security   \n",
       "12                                               None   \n",
       "13                      Job Security, Company Culture   \n",
       "14         Job Security, Skill Development / Learning   \n",
       "15  Company Culture, Salary & Benefits, Work Life ...   \n",
       "16  Work Life Balance, Job Security, Skill Develop...   \n",
       "17         Skill Development / Learning, Job Security   \n",
       "18  Skill Development / Learning, Job Security, Co...   \n",
       "19         Job Security, Skill Development / Learning   \n",
       "\n",
       "                                 Critically_Rated_For  \\\n",
       "0           Promotions / Appraisal, Salary & Benefits   \n",
       "1                                                None   \n",
       "2                              Promotions / Appraisal   \n",
       "3           Promotions / Appraisal, Salary & Benefits   \n",
       "4           Promotions / Appraisal, Salary & Benefits   \n",
       "5                              Promotions / Appraisal   \n",
       "6                                                None   \n",
       "7           Salary & Benefits, Promotions / Appraisal   \n",
       "8   Promotions / Appraisal, Salary & Benefits, Wor...   \n",
       "9           Promotions / Appraisal, Salary & Benefits   \n",
       "10          Salary & Benefits, Promotions / Appraisal   \n",
       "11                                               None   \n",
       "12  Promotions / Appraisal, Salary & Benefits, Wor...   \n",
       "13          Promotions / Appraisal, Salary & Benefits   \n",
       "14                             Promotions / Appraisal   \n",
       "15                                               None   \n",
       "16                             Promotions / Appraisal   \n",
       "17                             Promotions / Appraisal   \n",
       "18                             Promotions / Appraisal   \n",
       "19                                               None   \n",
       "\n",
       "                                         Company_Info  \n",
       "0   IT Services & Consulting | 1 Lakh+ Employees |...  \n",
       "1   IT Services & Consulting | 1 Lakh+ Employees |...  \n",
       "2   IT Services & Consulting | 1 Lakh+ Employees |...  \n",
       "3   IT Services & Consulting | 1 Lakh+ Employees |...  \n",
       "4   IT Services & Consulting | 1 Lakh+ Employees |...  \n",
       "5   Banking | 1 Lakh+ Employees | Public | 30 year...  \n",
       "6   Banking | 1 Lakh+ Employees | Public | 30 year...  \n",
       "7   IT Services & Consulting | 1 Lakh+ Employees |...  \n",
       "8   IT Services & Consulting | 1 Lakh+ Employees |...  \n",
       "9   IT Services & Consulting | 1 Lakh+ Employees |...  \n",
       "10  IT Services & Consulting | 1 Lakh+ Employees |...  \n",
       "11  Banking | 50k-1 Lakh Employees | Public | 31 y...  \n",
       "12  BPO | 50k-1 Lakh Employees | Forbes Global 200...  \n",
       "13  BPO | 50k-1 Lakh Employees | Public | 41 years...  \n",
       "14  Telecom | 50k-1 Lakh Employees | Public | 6 ye...  \n",
       "15  Internet | 1 Lakh+ Employees | Public | 30 yea...  \n",
       "16  IT Services & Consulting | 1 Lakh+ Employees |...  \n",
       "17  Retail | 1 Lakh+ Employees | 18 years old | Na...  \n",
       "18  NBFC | 1 Lakh+ Employees | 17 years old | Ahme...  \n",
       "19  Engineering & Construction | 10k-50k Employees...  "
      ]
     },
     "execution_count": 200,
     "metadata": {},
     "output_type": "execute_result"
    }
   ],
   "source": [
    "pd.DataFrame({'Company':Company, 'Ratings':Rating, 'Highly_Rated_For':Highly_Rated_For, \n",
    "              'Critically_Rated_For':Critically_Rated_For, 'Company_Info':company_info})"
   ]
  },
  {
   "cell_type": "code",
   "execution_count": 210,
   "id": "9b660e78",
   "metadata": {},
   "outputs": [],
   "source": [
    "headers={'User-Agent':'Mozilla/5.0 (Windows NT 6.3; Win 64 ; x64) Apple WeKit /537.36(KHTML , like Gecko) Chrome/80.0.3987.162 Safari/537.36'}\n",
    "Company=[]\n",
    "Rating=[]\n",
    "company_info=[]\n",
    "Highly_Rated_For = []\n",
    "Critically_Rated_For = []\n",
    "\n",
    "\n",
    "for j in range(1,8):\n",
    "    company=requests.get('https://www.ambitionbox.com/list-of-companies?page={}'.format(j), headers=headers).text\n",
    "    soup=BeautifulSoup(company, 'lxml')\n",
    "    # For company Name\n",
    "    for i in soup.find_all('h2', class_='companyCardWrapper__companyName'):\n",
    "        Company.append(i.text.strip())\n",
    "    #For Ratings\n",
    "    for i in soup.find_all('span', class_=\"companyCardWrapper__companyRatingValue\"):\n",
    "        Rating.append(i.text)\n",
    "\n",
    "    #For Company_Info\n",
    "    for i in soup.find_all('span', class_=\"companyCardWrapper__interLinking\"):\n",
    "        company_info.append(i.text.strip())\n",
    "\n",
    "    # For Highly_Rated_For and Critically_Rated_For\n",
    "    parent_element=soup.find_all('div',class_=\"companyCardWrapper__ratingComparisonWrapper\")\n",
    "    for i in parent_element:\n",
    "        if len(i.find_all('span',class_=\"companyCardWrapper__ratingValues\"))==1 and i.find_all('span',class_=\"companyCardWrapper__ratingHeader--critical\")==[]:\n",
    "            Highly_Rated_For.append(i.find_all('span',class_=\"companyCardWrapper__ratingValues\")[0].text)\n",
    "            Critically_Rated_For.append(None)\n",
    "\n",
    "        elif len(i.find_all('span',class_=\"companyCardWrapper__ratingValues\"))==1 and i.find_all('span',class_=\"companyCardWrapper__ratingHeader--high\")==[]:\n",
    "            Critically_Rated_For.append(i.find_all('span',class_=\"companyCardWrapper__ratingValues\")[0].text)\n",
    "            Highly_Rated_For.append(None)\n",
    "        else:\n",
    "            Highly_Rated_For.append(i.find_all('span',class_=\"companyCardWrapper__ratingValues\")[0].text)\n",
    "            Critically_Rated_For.append(i.find_all('span',class_=\"companyCardWrapper__ratingValues\")[1].text)\n"
   ]
  },
  {
   "cell_type": "code",
   "execution_count": 216,
   "id": "4ff1886d",
   "metadata": {},
   "outputs": [],
   "source": [
    "Data_New=pd.DataFrame({'Company':Company, 'Ratings':Rating, 'Highly_Rated_For':Highly_Rated_For, \n",
    "              'Critically_Rated_For':Critically_Rated_For, 'Company_Info':company_info})"
   ]
  },
  {
   "cell_type": "code",
   "execution_count": 217,
   "id": "2543b82f",
   "metadata": {},
   "outputs": [],
   "source": [
    "Data_New.to_csv('Correct Scraped Data Amazon Box.csv')"
   ]
  },
  {
   "cell_type": "code",
   "execution_count": 218,
   "id": "bce81203",
   "metadata": {
    "scrolled": true
   },
   "outputs": [
    {
     "name": "stdout",
     "output_type": "stream",
     "text": [
      "C:\\Users\\sharm\n"
     ]
    }
   ],
   "source": [
    "cd"
   ]
  },
  {
   "cell_type": "code",
   "execution_count": null,
   "id": "3445c06a",
   "metadata": {},
   "outputs": [],
   "source": [
    "import pandas as pd\n",
    "pd.read_csv('')"
   ]
  }
 ],
 "metadata": {
  "kernelspec": {
   "display_name": "Python 3 (ipykernel)",
   "language": "python",
   "name": "python3"
  },
  "language_info": {
   "codemirror_mode": {
    "name": "ipython",
    "version": 3
   },
   "file_extension": ".py",
   "mimetype": "text/x-python",
   "name": "python",
   "nbconvert_exporter": "python",
   "pygments_lexer": "ipython3",
   "version": "3.11.5"
  }
 },
 "nbformat": 4,
 "nbformat_minor": 5
}
