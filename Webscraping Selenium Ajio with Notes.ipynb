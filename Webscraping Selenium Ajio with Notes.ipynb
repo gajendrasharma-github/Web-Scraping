{
 "cells": [
  {
   "cell_type": "markdown",
   "id": "1bc9bcc9",
   "metadata": {},
   "source": [
    "## Agenda : Web Scraping Using Selenium\n",
    "\n",
    "**Part 1** : Automating Using Selenium\n",
    "**Part 2**: Getting data from infinite scrolling website\n",
    "**Part 3**: Extracting the data from SmartPrix website, where load more has to be clicked to get the data.\n",
    "\n",
    "**What is Selenium?**\n",
    "It is a tool for automating web browsers. Primarily used for testing web applications but can also be used for web scraping, data extraction and other tasks that require interaction with web browser programmatically. It has advantage over Beautiful Soup as it can scrape from dynamic websites. \n",
    "\n",
    "#### Installation\n",
    "1. Install Selenium\n",
    "2. Install chromedriver\n",
    "\n",
    "### Basic work\n",
    "1. Loading a webpage: Using Selenium\n",
    "2. Searching something\n",
    "3. Xpath\n",
    "4. Handling Scrolling\n",
    "5. Saving html\n",
    "\n",
    "### Web Scraping\n",
    "- Handling load more button"
   ]
  },
  {
   "cell_type": "markdown",
   "id": "06cdafc9",
   "metadata": {},
   "source": [
    "### Basic Terminologies\n",
    "\n",
    "#### Xpath:\n",
    "Xpath is a language used to navigate XML and HTML documents in order to locate elements within those documents. In selenium it is used to find elements on a webpage such as links, buttons, text boxes etc."
   ]
  },
  {
   "cell_type": "code",
   "execution_count": 1,
   "id": "4aa3a020",
   "metadata": {},
   "outputs": [],
   "source": [
    "# Importing the required libraries\n",
    "# Google.com\n",
    "# Campus x\n",
    "# Learnwith.campusx.in\n",
    "# dsmp 1.0 course page\n",
    "from selenium import webdriver\n",
    "from selenium.webdriver.chrome.service import Service\n",
    "import time\n",
    "from selenium.webdriver.common.by import By\n",
    "from selenium.webdriver.common.keys import Keys"
   ]
  },
  {
   "cell_type": "code",
   "execution_count": 2,
   "id": "130c2bc2",
   "metadata": {},
   "outputs": [],
   "source": [
    "# Open a window of chrome using \n",
    "s=Service('C:/Users/sharm/Downloads/chromedriver-win32/chromedriver-win32/chromedriver.exe')\n",
    "\n",
    "driver=webdriver.Chrome(service=s)\n",
    "driver.get('https://google.com')\n",
    "time.sleep(3)\n",
    "\n",
    "# Fetch the search input using Xpath\n",
    "user_input=driver.find_element(by=By.XPATH, value='//*[@id=\"APjFqb\"]')\n",
    "user_input.send_keys('campusx')\n",
    "time.sleep(1)\n",
    "user_input.send_keys(Keys.ENTER)\n",
    "time.sleep(1)\n",
    "link=driver.find_element(by=By.XPATH, value='//*[@id=\"rso\"]/div[1]/div/div/div/div/div/div/div/div[1]/div/span/a')\n",
    "link.click()\n",
    "join=driver.find_element(by=By.XPATH, value='//*[@id=\"1698390585510d\"]/div/div[1]/div/div/div/div[1]/div/div/div[2]/a[2]')\n",
    "join.click()"
   ]
  },
  {
   "cell_type": "markdown",
   "id": "9f051bf3",
   "metadata": {},
   "source": [
    "### Web Scraping in AJIO "
   ]
  },
  {
   "cell_type": "markdown",
   "id": "36e6d2e0",
   "metadata": {},
   "source": [
    "### Notes: \n",
    "So when we call the function driver.get(ajio_url), the page will be loaded. Now the problem is this, only 25-30 bags are loaded and we need 1200 bags. So we need to scroll down thodi thodi time pe, so that all the data can be loaded and once all the data is loaded we can just extract the html code and save it in the file so that we can do web scraping.\n",
    "\n",
    "So the funda is that we can use driver object and execute java script code to do a lot of things like scrolling. Javascript as a language fully controls the front end of a website."
   ]
  },
  {
   "cell_type": "code",
   "execution_count": 42,
   "id": "6e7fe825",
   "metadata": {},
   "outputs": [
    {
     "name": "stdout",
     "output_type": "stream",
     "text": [
      "Counter:  1\n",
      "Old_Height:  9920\n",
      "New_Height:  18480\n",
      "Counter:  2\n",
      "Old_Height:  18480\n",
      "New_Height:  26505\n",
      "Counter:  3\n",
      "Old_Height:  26505\n",
      "New_Height:  34530\n",
      "Counter:  4\n",
      "Old_Height:  34530\n",
      "New_Height:  50580\n",
      "Counter:  5\n",
      "Old_Height:  50580\n",
      "New_Height:  66630\n",
      "Counter:  6\n",
      "Old_Height:  66630\n",
      "New_Height:  74655\n",
      "Counter:  7\n",
      "Old_Height:  74655\n",
      "New_Height:  98730\n",
      "Counter:  8\n",
      "Old_Height:  98730\n",
      "New_Height:  114780\n",
      "Counter:  9\n",
      "Old_Height:  114780\n",
      "New_Height:  130830\n",
      "Counter:  10\n",
      "Old_Height:  130830\n",
      "New_Height:  146880\n"
     ]
    },
    {
     "ename": "TimeoutException",
     "evalue": "Message: script timeout\n  (Session info: chrome=124.0.6367.91)\nStacktrace:\n\tGetHandleVerifier [0x00FCC113+48259]\n\t(No symbol) [0x00F5CA41]\n\t(No symbol) [0x00E508A3]\n\t(No symbol) [0x00ECA533]\n\t(No symbol) [0x00EB0D9C]\n\t(No symbol) [0x00EC9B9C]\n\t(No symbol) [0x00EB0B36]\n\t(No symbol) [0x00E8570D]\n\t(No symbol) [0x00E862CD]\n\tGetHandleVerifier [0x01286533+2908323]\n\tGetHandleVerifier [0x012C3B4B+3159739]\n\tGetHandleVerifier [0x0106505B+674763]\n\tGetHandleVerifier [0x0106B21C+699788]\n\t(No symbol) [0x00F66244]\n\t(No symbol) [0x00F62298]\n\t(No symbol) [0x00F6242C]\n\t(No symbol) [0x00F54BB0]\n\tBaseThreadInitThunk [0x7717FCC9+25]\n\tRtlGetAppContainerNamedObjectPath [0x77B67C5E+286]\n\tRtlGetAppContainerNamedObjectPath [0x77B67C2E+238]\n",
     "output_type": "error",
     "traceback": [
      "\u001b[1;31m---------------------------------------------------------------------------\u001b[0m",
      "\u001b[1;31mTimeoutException\u001b[0m                          Traceback (most recent call last)",
      "Cell \u001b[1;32mIn[42], line 8\u001b[0m\n\u001b[0;32m      6\u001b[0m counter\u001b[38;5;241m=\u001b[39m\u001b[38;5;241m1\u001b[39m\n\u001b[0;32m      7\u001b[0m \u001b[38;5;28;01mwhile\u001b[39;00m \u001b[38;5;28;01mTrue\u001b[39;00m:\n\u001b[1;32m----> 8\u001b[0m     driver\u001b[38;5;241m.\u001b[39mexecute_script(\u001b[38;5;124m'\u001b[39m\u001b[38;5;124mwindow.scrollTo(0, document.body.scrollHeight)\u001b[39m\u001b[38;5;124m'\u001b[39m)\n\u001b[0;32m      9\u001b[0m     time\u001b[38;5;241m.\u001b[39msleep(\u001b[38;5;241m1\u001b[39m)\n\u001b[0;32m     11\u001b[0m     new_height\u001b[38;5;241m=\u001b[39mdriver\u001b[38;5;241m.\u001b[39mexecute_script(\u001b[38;5;124m'\u001b[39m\u001b[38;5;124mreturn document.body.scrollHeight\u001b[39m\u001b[38;5;124m'\u001b[39m)\n",
      "File \u001b[1;32m~\\anaconda3\\Lib\\site-packages\\selenium\\webdriver\\remote\\webdriver.py:407\u001b[0m, in \u001b[0;36mWebDriver.execute_script\u001b[1;34m(self, script, *args)\u001b[0m\n\u001b[0;32m    404\u001b[0m converted_args \u001b[38;5;241m=\u001b[39m \u001b[38;5;28mlist\u001b[39m(args)\n\u001b[0;32m    405\u001b[0m command \u001b[38;5;241m=\u001b[39m Command\u001b[38;5;241m.\u001b[39mW3C_EXECUTE_SCRIPT\n\u001b[1;32m--> 407\u001b[0m \u001b[38;5;28;01mreturn\u001b[39;00m \u001b[38;5;28mself\u001b[39m\u001b[38;5;241m.\u001b[39mexecute(command, {\u001b[38;5;124m\"\u001b[39m\u001b[38;5;124mscript\u001b[39m\u001b[38;5;124m\"\u001b[39m: script, \u001b[38;5;124m\"\u001b[39m\u001b[38;5;124margs\u001b[39m\u001b[38;5;124m\"\u001b[39m: converted_args})[\u001b[38;5;124m\"\u001b[39m\u001b[38;5;124mvalue\u001b[39m\u001b[38;5;124m\"\u001b[39m]\n",
      "File \u001b[1;32m~\\anaconda3\\Lib\\site-packages\\selenium\\webdriver\\remote\\webdriver.py:347\u001b[0m, in \u001b[0;36mWebDriver.execute\u001b[1;34m(self, driver_command, params)\u001b[0m\n\u001b[0;32m    345\u001b[0m response \u001b[38;5;241m=\u001b[39m \u001b[38;5;28mself\u001b[39m\u001b[38;5;241m.\u001b[39mcommand_executor\u001b[38;5;241m.\u001b[39mexecute(driver_command, params)\n\u001b[0;32m    346\u001b[0m \u001b[38;5;28;01mif\u001b[39;00m response:\n\u001b[1;32m--> 347\u001b[0m     \u001b[38;5;28mself\u001b[39m\u001b[38;5;241m.\u001b[39merror_handler\u001b[38;5;241m.\u001b[39mcheck_response(response)\n\u001b[0;32m    348\u001b[0m     response[\u001b[38;5;124m\"\u001b[39m\u001b[38;5;124mvalue\u001b[39m\u001b[38;5;124m\"\u001b[39m] \u001b[38;5;241m=\u001b[39m \u001b[38;5;28mself\u001b[39m\u001b[38;5;241m.\u001b[39m_unwrap_value(response\u001b[38;5;241m.\u001b[39mget(\u001b[38;5;124m\"\u001b[39m\u001b[38;5;124mvalue\u001b[39m\u001b[38;5;124m\"\u001b[39m, \u001b[38;5;28;01mNone\u001b[39;00m))\n\u001b[0;32m    349\u001b[0m     \u001b[38;5;28;01mreturn\u001b[39;00m response\n",
      "File \u001b[1;32m~\\anaconda3\\Lib\\site-packages\\selenium\\webdriver\\remote\\errorhandler.py:229\u001b[0m, in \u001b[0;36mErrorHandler.check_response\u001b[1;34m(self, response)\u001b[0m\n\u001b[0;32m    227\u001b[0m         alert_text \u001b[38;5;241m=\u001b[39m value[\u001b[38;5;124m\"\u001b[39m\u001b[38;5;124malert\u001b[39m\u001b[38;5;124m\"\u001b[39m]\u001b[38;5;241m.\u001b[39mget(\u001b[38;5;124m\"\u001b[39m\u001b[38;5;124mtext\u001b[39m\u001b[38;5;124m\"\u001b[39m)\n\u001b[0;32m    228\u001b[0m     \u001b[38;5;28;01mraise\u001b[39;00m exception_class(message, screen, stacktrace, alert_text)  \u001b[38;5;66;03m# type: ignore[call-arg]  # mypy is not smart enough here\u001b[39;00m\n\u001b[1;32m--> 229\u001b[0m \u001b[38;5;28;01mraise\u001b[39;00m exception_class(message, screen, stacktrace)\n",
      "\u001b[1;31mTimeoutException\u001b[0m: Message: script timeout\n  (Session info: chrome=124.0.6367.91)\nStacktrace:\n\tGetHandleVerifier [0x00FCC113+48259]\n\t(No symbol) [0x00F5CA41]\n\t(No symbol) [0x00E508A3]\n\t(No symbol) [0x00ECA533]\n\t(No symbol) [0x00EB0D9C]\n\t(No symbol) [0x00EC9B9C]\n\t(No symbol) [0x00EB0B36]\n\t(No symbol) [0x00E8570D]\n\t(No symbol) [0x00E862CD]\n\tGetHandleVerifier [0x01286533+2908323]\n\tGetHandleVerifier [0x012C3B4B+3159739]\n\tGetHandleVerifier [0x0106505B+674763]\n\tGetHandleVerifier [0x0106B21C+699788]\n\t(No symbol) [0x00F66244]\n\t(No symbol) [0x00F62298]\n\t(No symbol) [0x00F6242C]\n\t(No symbol) [0x00F54BB0]\n\tBaseThreadInitThunk [0x7717FCC9+25]\n\tRtlGetAppContainerNamedObjectPath [0x77B67C5E+286]\n\tRtlGetAppContainerNamedObjectPath [0x77B67C2E+238]\n"
     ]
    }
   ],
   "source": [
    "s=Service('C:/Users/sharm/Downloads/chromedriver-win32/chromedriver-win32/chromedriver.exe')\n",
    "driver=webdriver.Chrome(service=s)\n",
    "driver.get('https://www.ajio.com/men-backpacks/c/830201001')\n",
    "old_height=driver.execute_script('return document.body.scrollHeight')\n",
    "\n",
    "counter=1\n",
    "while True:\n",
    "    driver.execute_script('window.scrollTo(0, document.body.scrollHeight)')\n",
    "    time.sleep(1)\n",
    "    \n",
    "    new_height=driver.execute_script('return document.body.scrollHeight')\n",
    "\n",
    "    print('Counter: ', counter)\n",
    "    counter=counter+1\n",
    "    \n",
    "    print('Old_Height: ', old_height)\n",
    "    print('New_Height: ', new_height)\n",
    "    \n",
    "    \n",
    "    if new_height==old_height:\n",
    "        break\n",
    "    \n",
    "    old_height=new_height"
   ]
  }
 ],
 "metadata": {
  "kernelspec": {
   "display_name": "Python 3 (ipykernel)",
   "language": "python",
   "name": "python3"
  },
  "language_info": {
   "codemirror_mode": {
    "name": "ipython",
    "version": 3
   },
   "file_extension": ".py",
   "mimetype": "text/x-python",
   "name": "python",
   "nbconvert_exporter": "python",
   "pygments_lexer": "ipython3",
   "version": "3.11.5"
  }
 },
 "nbformat": 4,
 "nbformat_minor": 5
}
